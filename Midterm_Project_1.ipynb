{
 "cells": [
  {
   "cell_type": "code",
   "execution_count": null,
   "metadata": {},
   "outputs": [],
   "source": [
    "# imports\n",
    "import pandas as pd \n",
    "import numpy as np\n",
    "from sklearn.linear_model import LinearRegression\n",
    "from sklearn.feature_selection import f_regression\n",
    "from sklearn.metrics import mean_squared_error\n",
    "\n",
    "\n",
    "import seaborn as sns \n",
    "import matplotlib.pyplot as plt\n",
    "from scipy import stats\n",
    "\n",
    "def get_linear_model_summary(linearRegressionModel,X,y):\n",
    "    feature_names = X.columns\n",
    "    coefficients = linearRegressionModel.coef_\n",
    "    f_statistic, p_values = f_regression(X,y)\n",
    "    r_squared = linearRegressionModel.score(X,y)\n",
    "    p_values = [f'{p:.4f}' for p in p_values]\n",
    "    results = pd.DataFrame({'Feature': ['Intercept'] + list(feature_names),\n",
    "                        'Coefficient': [linearRegressionModel_1.intercept_] + list(coefficients),\n",
    "                        'R-squared': [r_squared] + [None] * len(coefficients),\n",
    "                        'F-statistic': [f_statistic[0]] + [None] * len(coefficients),\n",
    "                        'P-value': [None] + list(p_values)})\n",
    "\n",
    "    return results\n",
    "\n",
    "def get_mse(linearRegressionModel,X,y):\n",
    "    y_pred = linearRegressionModel.predict(X)\n",
    "    mse_resid = mean_squared_error(y, y_pred)\n",
    "    return mse_resid \n",
    "def get_df_resid(X,y):\n",
    "    n = len(y)\n",
    "    k = X.shape[1]\n",
    "    return n-k \n"
   ]
  }
 ],
 "metadata": {
  "language_info": {
   "name": "python"
  }
 },
 "nbformat": 4,
 "nbformat_minor": 2
}
